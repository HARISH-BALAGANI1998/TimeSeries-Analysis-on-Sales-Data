{
 "cells": [
  {
   "cell_type": "code",
   "execution_count": 1,
   "id": "c9e8fde0",
   "metadata": {},
   "outputs": [],
   "source": [
    "import pandas as pd\n",
    "import numpy as np\n",
    "import matplotlib.pyplot as plt\n",
    "import warnings\n",
    "warnings.filterwarnings('ignore')"
   ]
  },
  {
   "cell_type": "code",
   "execution_count": 2,
   "id": "c802e539",
   "metadata": {},
   "outputs": [],
   "source": [
    "# read csv file\n",
    "def readCSV(df):\n",
    "    data=pd.read_csv(df)\n",
    "    print(data.head())\n",
    "    return data"
   ]
  },
  {
   "cell_type": "code",
   "execution_count": 3,
   "id": "9f4f5c5e",
   "metadata": {},
   "outputs": [
    {
     "name": "stdout",
     "output_type": "stream",
     "text": [
      "         date  store  item  sales\n",
      "0  2013-01-01      1     1     13\n",
      "1  2013-01-02      1     1     11\n",
      "2  2013-01-03      1     1     14\n",
      "3  2013-01-04      1     1     13\n",
      "4  2013-01-05      1     1     10\n"
     ]
    }
   ],
   "source": [
    "salesData=readCSV(\"Salesd.csv\")"
   ]
  },
  {
   "cell_type": "markdown",
   "id": "39dd2b26",
   "metadata": {},
   "source": [
    "# TS data processing"
   ]
  },
  {
   "cell_type": "code",
   "execution_count": 4,
   "id": "7b51bf6b",
   "metadata": {},
   "outputs": [],
   "source": [
    "salesData=salesData[(salesData.store==1) & (salesData.item==1)]"
   ]
  },
  {
   "cell_type": "code",
   "execution_count": 5,
   "id": "c55bc44c",
   "metadata": {},
   "outputs": [
    {
     "data": {
      "text/html": [
       "<div>\n",
       "<style scoped>\n",
       "    .dataframe tbody tr th:only-of-type {\n",
       "        vertical-align: middle;\n",
       "    }\n",
       "\n",
       "    .dataframe tbody tr th {\n",
       "        vertical-align: top;\n",
       "    }\n",
       "\n",
       "    .dataframe thead th {\n",
       "        text-align: right;\n",
       "    }\n",
       "</style>\n",
       "<table border=\"1\" class=\"dataframe\">\n",
       "  <thead>\n",
       "    <tr style=\"text-align: right;\">\n",
       "      <th></th>\n",
       "      <th>date</th>\n",
       "      <th>store</th>\n",
       "      <th>item</th>\n",
       "      <th>sales</th>\n",
       "    </tr>\n",
       "  </thead>\n",
       "  <tbody>\n",
       "    <tr>\n",
       "      <th>0</th>\n",
       "      <td>2013-01-01</td>\n",
       "      <td>1</td>\n",
       "      <td>1</td>\n",
       "      <td>13</td>\n",
       "    </tr>\n",
       "    <tr>\n",
       "      <th>1</th>\n",
       "      <td>2013-01-02</td>\n",
       "      <td>1</td>\n",
       "      <td>1</td>\n",
       "      <td>11</td>\n",
       "    </tr>\n",
       "    <tr>\n",
       "      <th>2</th>\n",
       "      <td>2013-01-03</td>\n",
       "      <td>1</td>\n",
       "      <td>1</td>\n",
       "      <td>14</td>\n",
       "    </tr>\n",
       "    <tr>\n",
       "      <th>3</th>\n",
       "      <td>2013-01-04</td>\n",
       "      <td>1</td>\n",
       "      <td>1</td>\n",
       "      <td>13</td>\n",
       "    </tr>\n",
       "    <tr>\n",
       "      <th>4</th>\n",
       "      <td>2013-01-05</td>\n",
       "      <td>1</td>\n",
       "      <td>1</td>\n",
       "      <td>10</td>\n",
       "    </tr>\n",
       "  </tbody>\n",
       "</table>\n",
       "</div>"
      ],
      "text/plain": [
       "         date  store  item  sales\n",
       "0  2013-01-01      1     1     13\n",
       "1  2013-01-02      1     1     11\n",
       "2  2013-01-03      1     1     14\n",
       "3  2013-01-04      1     1     13\n",
       "4  2013-01-05      1     1     10"
      ]
     },
     "execution_count": 5,
     "metadata": {},
     "output_type": "execute_result"
    }
   ],
   "source": [
    "salesData.head()"
   ]
  },
  {
   "cell_type": "markdown",
   "id": "4da51eab",
   "metadata": {},
   "source": [
    "# Time Series Data Processing"
   ]
  },
  {
   "cell_type": "markdown",
   "id": "7b838002",
   "metadata": {},
   "source": [
    "# Setting the index"
   ]
  },
  {
   "cell_type": "code",
   "execution_count": 6,
   "id": "74a93c30",
   "metadata": {},
   "outputs": [],
   "source": [
    "# Setting the index\n",
    "salesData.index = pd.DatetimeIndex(salesData[\"date\"])"
   ]
  },
  {
   "cell_type": "code",
   "execution_count": 7,
   "id": "b9b6ffce",
   "metadata": {},
   "outputs": [
    {
     "data": {
      "text/html": [
       "<div>\n",
       "<style scoped>\n",
       "    .dataframe tbody tr th:only-of-type {\n",
       "        vertical-align: middle;\n",
       "    }\n",
       "\n",
       "    .dataframe tbody tr th {\n",
       "        vertical-align: top;\n",
       "    }\n",
       "\n",
       "    .dataframe thead th {\n",
       "        text-align: right;\n",
       "    }\n",
       "</style>\n",
       "<table border=\"1\" class=\"dataframe\">\n",
       "  <thead>\n",
       "    <tr style=\"text-align: right;\">\n",
       "      <th></th>\n",
       "      <th>date</th>\n",
       "      <th>store</th>\n",
       "      <th>item</th>\n",
       "      <th>sales</th>\n",
       "    </tr>\n",
       "    <tr>\n",
       "      <th>date</th>\n",
       "      <th></th>\n",
       "      <th></th>\n",
       "      <th></th>\n",
       "      <th></th>\n",
       "    </tr>\n",
       "  </thead>\n",
       "  <tbody>\n",
       "    <tr>\n",
       "      <th>2013-01-01</th>\n",
       "      <td>2013-01-01</td>\n",
       "      <td>1</td>\n",
       "      <td>1</td>\n",
       "      <td>13</td>\n",
       "    </tr>\n",
       "    <tr>\n",
       "      <th>2013-01-02</th>\n",
       "      <td>2013-01-02</td>\n",
       "      <td>1</td>\n",
       "      <td>1</td>\n",
       "      <td>11</td>\n",
       "    </tr>\n",
       "    <tr>\n",
       "      <th>2013-01-03</th>\n",
       "      <td>2013-01-03</td>\n",
       "      <td>1</td>\n",
       "      <td>1</td>\n",
       "      <td>14</td>\n",
       "    </tr>\n",
       "    <tr>\n",
       "      <th>2013-01-04</th>\n",
       "      <td>2013-01-04</td>\n",
       "      <td>1</td>\n",
       "      <td>1</td>\n",
       "      <td>13</td>\n",
       "    </tr>\n",
       "    <tr>\n",
       "      <th>2013-01-05</th>\n",
       "      <td>2013-01-05</td>\n",
       "      <td>1</td>\n",
       "      <td>1</td>\n",
       "      <td>10</td>\n",
       "    </tr>\n",
       "  </tbody>\n",
       "</table>\n",
       "</div>"
      ],
      "text/plain": [
       "                  date  store  item  sales\n",
       "date                                      \n",
       "2013-01-01  2013-01-01      1     1     13\n",
       "2013-01-02  2013-01-02      1     1     11\n",
       "2013-01-03  2013-01-03      1     1     14\n",
       "2013-01-04  2013-01-04      1     1     13\n",
       "2013-01-05  2013-01-05      1     1     10"
      ]
     },
     "execution_count": 7,
     "metadata": {},
     "output_type": "execute_result"
    }
   ],
   "source": [
    "salesData.head()"
   ]
  },
  {
   "cell_type": "code",
   "execution_count": 8,
   "id": "310d06ed",
   "metadata": {},
   "outputs": [
    {
     "data": {
      "text/html": [
       "<div>\n",
       "<style scoped>\n",
       "    .dataframe tbody tr th:only-of-type {\n",
       "        vertical-align: middle;\n",
       "    }\n",
       "\n",
       "    .dataframe tbody tr th {\n",
       "        vertical-align: top;\n",
       "    }\n",
       "\n",
       "    .dataframe thead th {\n",
       "        text-align: right;\n",
       "    }\n",
       "</style>\n",
       "<table border=\"1\" class=\"dataframe\">\n",
       "  <thead>\n",
       "    <tr style=\"text-align: right;\">\n",
       "      <th></th>\n",
       "      <th>date</th>\n",
       "      <th>store</th>\n",
       "      <th>item</th>\n",
       "      <th>sales</th>\n",
       "    </tr>\n",
       "    <tr>\n",
       "      <th>date</th>\n",
       "      <th></th>\n",
       "      <th></th>\n",
       "      <th></th>\n",
       "      <th></th>\n",
       "    </tr>\n",
       "  </thead>\n",
       "  <tbody>\n",
       "    <tr>\n",
       "      <th>2013-01-01</th>\n",
       "      <td>2013-01-01</td>\n",
       "      <td>1</td>\n",
       "      <td>1</td>\n",
       "      <td>13</td>\n",
       "    </tr>\n",
       "  </tbody>\n",
       "</table>\n",
       "</div>"
      ],
      "text/plain": [
       "                  date  store  item  sales\n",
       "date                                      \n",
       "2013-01-01  2013-01-01      1     1     13"
      ]
     },
     "execution_count": 8,
     "metadata": {},
     "output_type": "execute_result"
    }
   ],
   "source": [
    "salesData[salesData.date=='2013-01-01']"
   ]
  },
  {
   "cell_type": "markdown",
   "id": "58587102",
   "metadata": {},
   "source": [
    "# Dropping the columns"
   ]
  },
  {
   "cell_type": "code",
   "execution_count": 9,
   "id": "2831dca4",
   "metadata": {},
   "outputs": [],
   "source": [
    "salesData.drop(['date','store','item'],axis=1,inplace=True)"
   ]
  },
  {
   "cell_type": "code",
   "execution_count": 10,
   "id": "4427382a",
   "metadata": {},
   "outputs": [
    {
     "data": {
      "text/html": [
       "<div>\n",
       "<style scoped>\n",
       "    .dataframe tbody tr th:only-of-type {\n",
       "        vertical-align: middle;\n",
       "    }\n",
       "\n",
       "    .dataframe tbody tr th {\n",
       "        vertical-align: top;\n",
       "    }\n",
       "\n",
       "    .dataframe thead th {\n",
       "        text-align: right;\n",
       "    }\n",
       "</style>\n",
       "<table border=\"1\" class=\"dataframe\">\n",
       "  <thead>\n",
       "    <tr style=\"text-align: right;\">\n",
       "      <th></th>\n",
       "      <th>sales</th>\n",
       "    </tr>\n",
       "    <tr>\n",
       "      <th>date</th>\n",
       "      <th></th>\n",
       "    </tr>\n",
       "  </thead>\n",
       "  <tbody>\n",
       "    <tr>\n",
       "      <th>2013-01-01</th>\n",
       "      <td>13</td>\n",
       "    </tr>\n",
       "    <tr>\n",
       "      <th>2013-01-02</th>\n",
       "      <td>11</td>\n",
       "    </tr>\n",
       "    <tr>\n",
       "      <th>2013-01-03</th>\n",
       "      <td>14</td>\n",
       "    </tr>\n",
       "    <tr>\n",
       "      <th>2013-01-04</th>\n",
       "      <td>13</td>\n",
       "    </tr>\n",
       "    <tr>\n",
       "      <th>2013-01-05</th>\n",
       "      <td>10</td>\n",
       "    </tr>\n",
       "  </tbody>\n",
       "</table>\n",
       "</div>"
      ],
      "text/plain": [
       "            sales\n",
       "date             \n",
       "2013-01-01     13\n",
       "2013-01-02     11\n",
       "2013-01-03     14\n",
       "2013-01-04     13\n",
       "2013-01-05     10"
      ]
     },
     "execution_count": 10,
     "metadata": {},
     "output_type": "execute_result"
    }
   ],
   "source": [
    "salesData.head()"
   ]
  },
  {
   "cell_type": "code",
   "execution_count": 11,
   "id": "2a39fb82",
   "metadata": {},
   "outputs": [
    {
     "data": {
      "text/plain": [
       "(1826, 1)"
      ]
     },
     "execution_count": 11,
     "metadata": {},
     "output_type": "execute_result"
    }
   ],
   "source": [
    "salesData.shape"
   ]
  },
  {
   "cell_type": "markdown",
   "id": "6228fb8b",
   "metadata": {},
   "source": [
    "# Train and Test set"
   ]
  },
  {
   "cell_type": "code",
   "execution_count": 12,
   "id": "454df01f",
   "metadata": {},
   "outputs": [],
   "source": [
    "threshold = int(len(salesData)*0.9)\n",
    "trainData=salesData.iloc[:threshold]\n",
    "testData=salesData.iloc[threshold:]"
   ]
  },
  {
   "cell_type": "code",
   "execution_count": 13,
   "id": "33960d02",
   "metadata": {},
   "outputs": [
    {
     "data": {
      "text/plain": [
       "(1643, 1)"
      ]
     },
     "execution_count": 13,
     "metadata": {},
     "output_type": "execute_result"
    }
   ],
   "source": [
    "trainData.shape"
   ]
  },
  {
   "cell_type": "code",
   "execution_count": 14,
   "id": "f2f989af",
   "metadata": {},
   "outputs": [
    {
     "data": {
      "text/plain": [
       "(183, 1)"
      ]
     },
     "execution_count": 14,
     "metadata": {},
     "output_type": "execute_result"
    }
   ],
   "source": [
    "testData.shape"
   ]
  },
  {
   "cell_type": "markdown",
   "id": "30f14f95",
   "metadata": {},
   "source": [
    "# Time Series Visualization"
   ]
  },
  {
   "cell_type": "code",
   "execution_count": 15,
   "id": "95464492",
   "metadata": {},
   "outputs": [],
   "source": [
    "def tsViz(data):\n",
    "    \n",
    "    plt.figure(figsize=(20,10))\n",
    "    data.plot()\n",
    "    plt.show()"
   ]
  },
  {
   "cell_type": "markdown",
   "id": "f52c78bb",
   "metadata": {},
   "source": [
    "### Original Data Visualization"
   ]
  },
  {
   "cell_type": "code",
   "execution_count": 16,
   "id": "ff9956b9",
   "metadata": {},
   "outputs": [
    {
     "data": {
      "text/plain": [
       "<Figure size 1440x720 with 0 Axes>"
      ]
     },
     "metadata": {},
     "output_type": "display_data"
    },
    {
     "data": {
      "image/png": "[encoded data removed]",
      "text/plain": [
       "<Figure size 432x288 with 1 Axes>"
      ]
     },
     "metadata": {
      "needs_background": "light"
     },
     "output_type": "display_data"
    }
   ],
   "source": [
    "tsViz(salesData)"
   ]
  },
  {
   "cell_type": "markdown",
   "id": "7b9f152a",
   "metadata": {},
   "source": [
    "### TrainData Visualization"
   ]
  },
  {
   "cell_type": "code",
   "execution_count": 17,
   "id": "7a9186ed",
   "metadata": {},
   "outputs": [
    {
     "data": {
      "text/plain": [
       "<Figure size 1440x720 with 0 Axes>"
      ]
     },
     "metadata": {},
     "output_type": "display_data"
    },
    {
     "data": {
      "image/png": "[encoded data removed]",
      "text/plain": [
       "<Figure size 432x288 with 1 Axes>"
      ]
     },
     "metadata": {
      "needs_background": "light"
     },
     "output_type": "display_data"
    }
   ],
   "source": [
    "tsViz(trainData)"
   ]
  },
  {
   "cell_type": "markdown",
   "id": "1c62858e",
   "metadata": {},
   "source": [
    "### TestData Visualization"
   ]
  },
  {
   "cell_type": "code",
   "execution_count": 18,
   "id": "638d4beb",
   "metadata": {},
   "outputs": [
    {
     "data": {
      "text/plain": [
       "<Figure size 1440x720 with 0 Axes>"
      ]
     },
     "metadata": {},
     "output_type": "display_data"
    },
    {
     "data": {
      "image/png": "[encoded data removed]",
      "text/plain": [
       "<Figure size 432x288 with 1 Axes>"
      ]
     },
     "metadata": {
      "needs_background": "light"
     },
     "output_type": "display_data"
    }
   ],
   "source": [
    "tsViz(testData)"
   ]
  },
  {
   "cell_type": "markdown",
   "id": "5d2478bf",
   "metadata": {},
   "source": [
    "# Moving Average Analysis"
   ]
  },
  {
   "cell_type": "code",
   "execution_count": 19,
   "id": "3698ad10",
   "metadata": {},
   "outputs": [],
   "source": [
    "def movingAverages(data,window):\n",
    "    rolling=data.rolling(window)\n",
    "    rolling_mean=rolling.mean()\n",
    "    print(tsViz(rolling_mean))"
   ]
  },
  {
   "cell_type": "code",
   "execution_count": 20,
   "id": "ff0263b1",
   "metadata": {},
   "outputs": [
    {
     "data": {
      "text/plain": [
       "<Figure size 1440x720 with 0 Axes>"
      ]
     },
     "metadata": {},
     "output_type": "display_data"
    },
    {
     "data": {
      "image/png": "[encoded data removed]",
      "text/plain": [
       "<Figure size 432x288 with 1 Axes>"
      ]
     },
     "metadata": {
      "needs_background": "light"
     },
     "output_type": "display_data"
    },
    {
     "name": "stdout",
     "output_type": "stream",
     "text": [
      "None\n"
     ]
    }
   ],
   "source": [
    "movingAverages(trainData,10)"
   ]
  },
  {
   "cell_type": "code",
   "execution_count": 21,
   "id": "58959c1f",
   "metadata": {},
   "outputs": [
    {
     "data": {
      "text/plain": [
       "<Figure size 1440x720 with 0 Axes>"
      ]
     },
     "metadata": {},
     "output_type": "display_data"
    },
    {
     "data": {
      "image/png": "[encoded data removed]",
      "text/plain": [
       "<Figure size 432x288 with 1 Axes>"
      ]
     },
     "metadata": {
      "needs_background": "light"
     },
     "output_type": "display_data"
    },
    {
     "name": "stdout",
     "output_type": "stream",
     "text": [
      "None\n"
     ]
    }
   ],
   "source": [
    "movingAverages(testData,10)"
   ]
  },
  {
   "cell_type": "markdown",
   "id": "4a3cd88b",
   "metadata": {},
   "source": [
    "# Simple Exponential Smoothing"
   ]
  },
  {
   "cell_type": "code",
   "execution_count": 22,
   "id": "45af1039",
   "metadata": {},
   "outputs": [],
   "source": [
    "from statsmodels.tsa.holtwinters import SimpleExpSmoothing\n",
    "from sklearn.metrics import mean_squared_error"
   ]
  },
  {
   "cell_type": "code",
   "execution_count": 23,
   "id": "97c3abad",
   "metadata": {},
   "outputs": [],
   "source": [
    "start=testData.index[0]\n",
    "end=testData.index[len(testData)-1]"
   ]
  },
  {
   "cell_type": "code",
   "execution_count": 24,
   "id": "f175fcbf",
   "metadata": {},
   "outputs": [],
   "source": [
    "resultsdict={}"
   ]
  },
  {
   "cell_type": "code",
   "execution_count": 25,
   "id": "196ea0ff",
   "metadata": {},
   "outputs": [],
   "source": [
    "def ses(data):\n",
    "    initmethod=[None,'estimated','heuristic','legacy-heuristic']\n",
    "    selectedmethod=int(input(\"please enter the method of initialization: \"))\n",
    "    model = SimpleExpSmoothing(data,initmethod[selectedmethod])\n",
    "    model_fit=model.fit()\n",
    "    return model_fit\n",
    "def predict(model,start,end):\n",
    "    predictions=model.predict(start,end)\n",
    "    return predictions\n",
    "def rmse(predictions,test):\n",
    "    rms=np.sqrt(mean_squared_error(predictions.values,test.values))\n",
    "    return rms"
   ]
  },
  {
   "cell_type": "code",
   "execution_count": 26,
   "id": "93eacce9",
   "metadata": {},
   "outputs": [
    {
     "name": "stdout",
     "output_type": "stream",
     "text": [
      "please enter the method of initialization: 2\n"
     ]
    },
    {
     "name": "stderr",
     "output_type": "stream",
     "text": [
      "C:\\Users\\balag\\anaconda\\envs\\TS\\lib\\site-packages\\statsmodels\\tsa\\base\\tsa_model.py:524: ValueWarning: No frequency information was provided, so inferred frequency D will be used.\n",
      "  warnings.warn('No frequency information was'\n"
     ]
    }
   ],
   "source": [
    "model=ses(trainData)"
   ]
  },
  {
   "cell_type": "code",
   "execution_count": 27,
   "id": "6aff73d7",
   "metadata": {},
   "outputs": [],
   "source": [
    "predictions=predict(model,start,end)"
   ]
  },
  {
   "cell_type": "code",
   "execution_count": 28,
   "id": "558627bb",
   "metadata": {},
   "outputs": [
    {
     "data": {
      "text/plain": [
       "9.035533337559102"
      ]
     },
     "execution_count": 28,
     "metadata": {},
     "output_type": "execute_result"
    }
   ],
   "source": [
    "rmse(predictions,testData)"
   ]
  },
  {
   "cell_type": "code",
   "execution_count": 29,
   "id": "59278036",
   "metadata": {},
   "outputs": [],
   "source": [
    "resultsdict['SES']=rmse(predictions,testData)"
   ]
  },
  {
   "cell_type": "code",
   "execution_count": 30,
   "id": "99542c99",
   "metadata": {},
   "outputs": [
    {
     "data": {
      "text/plain": [
       "{'SES': 9.035533337559102}"
      ]
     },
     "execution_count": 30,
     "metadata": {},
     "output_type": "execute_result"
    }
   ],
   "source": [
    "resultsdict"
   ]
  },
  {
   "cell_type": "markdown",
   "id": "c02bec24",
   "metadata": {},
   "source": [
    "# Holts Method"
   ]
  },
  {
   "cell_type": "code",
   "execution_count": 31,
   "id": "65f89f81",
   "metadata": {},
   "outputs": [],
   "source": [
    "from statsmodels.tsa.holtwinters import Holt"
   ]
  },
  {
   "cell_type": "code",
   "execution_count": 32,
   "id": "c7b40b06",
   "metadata": {},
   "outputs": [],
   "source": [
    "def holt(data,exp,damp):\n",
    "    holt=Holt(trainData,exponential=exp,damped_trend=damp,initialization_method='estimated')\n",
    "    model_fit=holt.fit()\n",
    "    return model_fit"
   ]
  },
  {
   "cell_type": "code",
   "execution_count": 33,
   "id": "167a7f61",
   "metadata": {},
   "outputs": [
    {
     "name": "stderr",
     "output_type": "stream",
     "text": [
      "C:\\Users\\balag\\anaconda\\envs\\TS\\lib\\site-packages\\statsmodels\\tsa\\base\\tsa_model.py:524: ValueWarning: No frequency information was provided, so inferred frequency D will be used.\n",
      "  warnings.warn('No frequency information was'\n"
     ]
    }
   ],
   "source": [
    "model=holt(trainData,False,False)"
   ]
  },
  {
   "cell_type": "code",
   "execution_count": 34,
   "id": "792bf4da",
   "metadata": {},
   "outputs": [],
   "source": [
    "predictions=predict(model,start,end)"
   ]
  },
  {
   "cell_type": "code",
   "execution_count": 35,
   "id": "ced8a244",
   "metadata": {},
   "outputs": [
    {
     "data": {
      "text/plain": [
       "19.44771925331211"
      ]
     },
     "execution_count": 35,
     "metadata": {},
     "output_type": "execute_result"
    }
   ],
   "source": [
    "rmse(predictions,testData)"
   ]
  },
  {
   "cell_type": "code",
   "execution_count": 36,
   "id": "32ead31f",
   "metadata": {},
   "outputs": [],
   "source": [
    "resultsdict['Holts Method with No exp amd No Dampend']=rmse(predictions,testData)"
   ]
  },
  {
   "cell_type": "code",
   "execution_count": 37,
   "id": "297b43b6",
   "metadata": {},
   "outputs": [
    {
     "data": {
      "text/plain": [
       "{'SES': 9.035533337559102,\n",
       " 'Holts Method with No exp amd No Dampend': 19.44771925331211}"
      ]
     },
     "execution_count": 37,
     "metadata": {},
     "output_type": "execute_result"
    }
   ],
   "source": [
    "resultsdict"
   ]
  },
  {
   "cell_type": "markdown",
   "id": "0c95c6c9",
   "metadata": {},
   "source": [
    "# Holts Winters Method"
   ]
  },
  {
   "cell_type": "code",
   "execution_count": 38,
   "id": "7b96ca78",
   "metadata": {},
   "outputs": [],
   "source": [
    "from statsmodels.tsa.holtwinters import ExponentialSmoothing"
   ]
  },
  {
   "cell_type": "code",
   "execution_count": 39,
   "id": "3b841f19",
   "metadata": {},
   "outputs": [],
   "source": [
    "def hltwinters(data):\n",
    "    holtWinters=ExponentialSmoothing(data,trend=\"additive\",damped_trend=True,seasonal=\"additive\",seasonal_periods=7,\n",
    "                                     initialization_method=\"estimated\",use_boxcox=True,)\n",
    "    model_fit=holtWinters.fit()\n",
    "    return model_fit"
   ]
  },
  {
   "cell_type": "code",
   "execution_count": 40,
   "id": "418d49fc",
   "metadata": {},
   "outputs": [
    {
     "name": "stderr",
     "output_type": "stream",
     "text": [
      "C:\\Users\\balag\\anaconda\\envs\\TS\\lib\\site-packages\\statsmodels\\tsa\\base\\tsa_model.py:524: ValueWarning: No frequency information was provided, so inferred frequency D will be used.\n",
      "  warnings.warn('No frequency information was'\n"
     ]
    }
   ],
   "source": [
    "model=hltwinters(trainData)"
   ]
  },
  {
   "cell_type": "code",
   "execution_count": 41,
   "id": "dca1de01",
   "metadata": {},
   "outputs": [],
   "source": [
    "predictions=predict(model,start,end)"
   ]
  },
  {
   "cell_type": "code",
   "execution_count": 42,
   "id": "8ee97641",
   "metadata": {},
   "outputs": [
    {
     "data": {
      "text/plain": [
       "8.527007662716807"
      ]
     },
     "execution_count": 42,
     "metadata": {},
     "output_type": "execute_result"
    }
   ],
   "source": [
    "rmse(predictions,testData)"
   ]
  },
  {
   "cell_type": "code",
   "execution_count": 43,
   "id": "64d860be",
   "metadata": {},
   "outputs": [],
   "source": [
    "resultsdict['Holts winters Method with add trend,Dampend and seasonalit=7']=rmse(predictions,testData)"
   ]
  },
  {
   "cell_type": "code",
   "execution_count": 44,
   "id": "7780a4ec",
   "metadata": {},
   "outputs": [
    {
     "data": {
      "text/plain": [
       "{'SES': 9.035533337559102,\n",
       " 'Holts Method with No exp amd No Dampend': 19.44771925331211,\n",
       " 'Holts winters Method with add trend,Dampend and seasonalit=7': 8.527007662716807}"
      ]
     },
     "execution_count": 44,
     "metadata": {},
     "output_type": "execute_result"
    }
   ],
   "source": [
    "resultsdict"
   ]
  },
  {
   "cell_type": "markdown",
   "id": "3b9e6ea1",
   "metadata": {},
   "source": [
    "# ARIMA Model"
   ]
  },
  {
   "cell_type": "code",
   "execution_count": 45,
   "id": "33a3eefa",
   "metadata": {},
   "outputs": [],
   "source": [
    "from statsmodels.tsa.stattools import adfuller\n",
    "from statsmodels.graphics.tsaplots import plot_acf,plot_pacf\n",
    "from statsmodels.tsa.arima_model import ARIMA"
   ]
  },
  {
   "cell_type": "code",
   "execution_count": 46,
   "id": "c1a58fb3",
   "metadata": {},
   "outputs": [],
   "source": [
    "def adfullerTest(data,order=0):\n",
    "    adFullerResults=adfuller(data)\n",
    "    print(\"ADF test value is:\",adFullerResults[0])\n",
    "\n",
    "    print(\"p value is:\",adFullerResults[1])\n",
    "\n",
    "    if adFullerResults[1]<0.05:\n",
    "        print(\"Our data is stationary\")\n",
    "        print(f\"As Our data is Stationary,our d value=={order}\")\n",
    "        \n",
    "    else:\n",
    "        print(\"Our data is not stationary\")\n",
    "        \n",
    "def diffFunction(data,order):\n",
    "    data=data.diff(order)\n",
    "    data.dropna(inplace=True)\n",
    "    #print(f\"As Our data is Stationary,our d value=={order}\")\n",
    "    return data\n",
    "\n",
    "def autocorrelationplots(data):\n",
    "    x=plot_acf(data)\n",
    "    y=plot_pacf(data)\n",
    "    return x,y\n",
    "def arima(data,p,d,q):\n",
    "    arima=ARIMA(data,order=(p,d,q))\n",
    "    model_fit=arima.fit()\n",
    "    return model_fit"
   ]
  },
  {
   "cell_type": "code",
   "execution_count": 47,
   "id": "ff09419f",
   "metadata": {},
   "outputs": [
    {
     "name": "stdout",
     "output_type": "stream",
     "text": [
      "ADF test value is: -2.3406395996771616\n",
      "p value is: 0.15919557460849082\n",
      "Our data is not stationary\n"
     ]
    }
   ],
   "source": [
    "adfullerTest(trainData)"
   ]
  },
  {
   "cell_type": "code",
   "execution_count": 48,
   "id": "15aae636",
   "metadata": {},
   "outputs": [
    {
     "name": "stdout",
     "output_type": "stream",
     "text": [
      "ADF test value is: -14.697029133183692\n",
      "p value is: 2.987194103692614e-27\n",
      "Our data is stationary\n",
      "As Our data is Stationary,our d value==1\n"
     ]
    }
   ],
   "source": [
    "adfullerTest(diffFunction(trainData,1),1)"
   ]
  },
  {
   "cell_type": "code",
   "execution_count": 49,
   "id": "a96c758d",
   "metadata": {},
   "outputs": [],
   "source": [
    "dataStationary=diffFunction(trainData,1)"
   ]
  },
  {
   "cell_type": "code",
   "execution_count": 50,
   "id": "d4de2019",
   "metadata": {},
   "outputs": [
    {
     "data": {
      "text/plain": [
       "(<Figure size 432x288 with 1 Axes>, <Figure size 432x288 with 1 Axes>)"
      ]
     },
     "execution_count": 50,
     "metadata": {},
     "output_type": "execute_result"
    },
    {
     "data": {
      "image/png": "[encoded data removed]",
      "text/plain": [
       "<Figure size 432x288 with 1 Axes>"
      ]
     },
     "metadata": {
      "needs_background": "light"
     },
     "output_type": "display_data"
    },
    {
     "data": {
      "image/png": "[encoded data removed]",
      "text/plain": [
       "<Figure size 432x288 with 1 Axes>"
      ]
     },
     "metadata": {
      "needs_background": "light"
     },
     "output_type": "display_data"
    }
   ],
   "source": [
    "autocorrelationplots(dataStationary)"
   ]
  },
  {
   "cell_type": "code",
   "execution_count": 51,
   "id": "6e428766",
   "metadata": {},
   "outputs": [
    {
     "name": "stderr",
     "output_type": "stream",
     "text": [
      "C:\\Users\\balag\\anaconda\\envs\\TS\\lib\\site-packages\\statsmodels\\tsa\\base\\tsa_model.py:524: ValueWarning: No frequency information was provided, so inferred frequency D will be used.\n",
      "  warnings.warn('No frequency information was'\n",
      "C:\\Users\\balag\\anaconda\\envs\\TS\\lib\\site-packages\\statsmodels\\tsa\\base\\tsa_model.py:524: ValueWarning: No frequency information was provided, so inferred frequency D will be used.\n",
      "  warnings.warn('No frequency information was'\n"
     ]
    },
    {
     "data": {
      "text/plain": [
       "24.104700612857087"
      ]
     },
     "execution_count": 51,
     "metadata": {},
     "output_type": "execute_result"
    }
   ],
   "source": [
    "model=arima(trainData,6,1,2)\n",
    "predictions=predict(model,start,end)\n",
    "rmse(predictions,testData)"
   ]
  },
  {
   "cell_type": "code",
   "execution_count": 52,
   "id": "ab2aec0d",
   "metadata": {},
   "outputs": [],
   "source": [
    "resultsdict['ARIMA']=rmse(predictions,testData)"
   ]
  },
  {
   "cell_type": "code",
   "execution_count": 53,
   "id": "e9437bfe",
   "metadata": {},
   "outputs": [
    {
     "data": {
      "text/plain": [
       "{'SES': 9.035533337559102,\n",
       " 'Holts Method with No exp amd No Dampend': 19.44771925331211,\n",
       " 'Holts winters Method with add trend,Dampend and seasonalit=7': 8.527007662716807,\n",
       " 'ARIMA': 24.104700612857087}"
      ]
     },
     "execution_count": 53,
     "metadata": {},
     "output_type": "execute_result"
    }
   ],
   "source": [
    "resultsdict"
   ]
  },
  {
   "cell_type": "markdown",
   "id": "f640e905",
   "metadata": {},
   "source": [
    "# SARIMA"
   ]
  },
  {
   "cell_type": "code",
   "execution_count": 54,
   "id": "0aa4b070",
   "metadata": {},
   "outputs": [],
   "source": [
    "from statsmodels.tsa.statespace import sarimax"
   ]
  },
  {
   "cell_type": "code",
   "execution_count": 60,
   "id": "156b4be7",
   "metadata": {},
   "outputs": [],
   "source": [
    "def sarima(data,P,D,Q,m):\n",
    "    sari = sarimax.SARIMAX(data, trend='n', order=(6,1,2), seasonal_order=(P,D,Q,m))\n",
    "    model_fit=sari.fit()\n",
    "    return model_fit"
   ]
  },
  {
   "cell_type": "code",
   "execution_count": 61,
   "id": "115b0add",
   "metadata": {},
   "outputs": [],
   "source": [
    "dataStationary=diffFunction(trainData,1)"
   ]
  },
  {
   "cell_type": "code",
   "execution_count": 62,
   "id": "da05649d",
   "metadata": {},
   "outputs": [],
   "source": [
    "dataSeasonal=diffFunction(dataStationary,12)"
   ]
  },
  {
   "cell_type": "code",
   "execution_count": 63,
   "id": "0aefe837",
   "metadata": {},
   "outputs": [
    {
     "data": {
      "text/plain": [
       "(<Figure size 432x288 with 1 Axes>, <Figure size 432x288 with 1 Axes>)"
      ]
     },
     "execution_count": 63,
     "metadata": {},
     "output_type": "execute_result"
    },
    {
     "data": {
      "image/png": "[encoded data removed]",
      "text/plain": [
       "<Figure size 432x288 with 1 Axes>"
      ]
     },
     "metadata": {
      "needs_background": "light"
     },
     "output_type": "display_data"
    },
    {
     "data": {
      "image/png": "[encoded data removed]",
      "text/plain": [
       "<Figure size 432x288 with 1 Axes>"
      ]
     },
     "metadata": {
      "needs_background": "light"
     },
     "output_type": "display_data"
    }
   ],
   "source": [
    "autocorrelationplots(dataSeasonal)"
   ]
  },
  {
   "cell_type": "code",
   "execution_count": 64,
   "id": "cdccaa06",
   "metadata": {},
   "outputs": [
    {
     "name": "stderr",
     "output_type": "stream",
     "text": [
      "C:\\Users\\balag\\anaconda\\envs\\TS\\lib\\site-packages\\statsmodels\\tsa\\base\\tsa_model.py:524: ValueWarning: No frequency information was provided, so inferred frequency D will be used.\n",
      "  warnings.warn('No frequency information was'\n",
      "C:\\Users\\balag\\anaconda\\envs\\TS\\lib\\site-packages\\statsmodels\\tsa\\base\\tsa_model.py:524: ValueWarning: No frequency information was provided, so inferred frequency D will be used.\n",
      "  warnings.warn('No frequency information was'\n",
      "C:\\Users\\balag\\anaconda\\envs\\TS\\lib\\site-packages\\statsmodels\\base\\model.py:566: ConvergenceWarning: Maximum Likelihood optimization failed to converge. Check mle_retvals\n",
      "  warnings.warn(\"Maximum Likelihood optimization failed to \"\n"
     ]
    },
    {
     "data": {
      "text/plain": [
       "10.762521416268376"
      ]
     },
     "execution_count": 64,
     "metadata": {},
     "output_type": "execute_result"
    }
   ],
   "source": [
    "model=sarima(trainData,4,1,4,12)\n",
    "predictions=predict(model,start,end)\n",
    "rmse(predictions,testData)"
   ]
  },
  {
   "cell_type": "code",
   "execution_count": 65,
   "id": "05cba1c9",
   "metadata": {},
   "outputs": [],
   "source": [
    "resultsdict['SARIMA']=rmse(predictions,testData)"
   ]
  },
  {
   "cell_type": "code",
   "execution_count": 67,
   "id": "2df0d9d5",
   "metadata": {},
   "outputs": [
    {
     "data": {
      "text/plain": [
       "{'SES': 9.035533337559102,\n",
       " 'Holts Method with No exp amd No Dampend': 19.44771925331211,\n",
       " 'Holts winters Method with add trend,Dampend and seasonalit=7': 8.527007662716807,\n",
       " 'ARIMA': 24.104700612857087,\n",
       " 'SARIMA': 10.762521416268376}"
      ]
     },
     "execution_count": 67,
     "metadata": {},
     "output_type": "execute_result"
    }
   ],
   "source": [
    "resultsdict"
   ]
  },
  {
   "cell_type": "code",
   "execution_count": null,
   "id": "4e0ebf03",
   "metadata": {},
   "outputs": [],
   "source": []
  }
 ],
 "metadata": {
  "kernelspec": {
   "display_name": "TS",
   "language": "python",
   "name": "ts"
  },
  "language_info": {
   "codemirror_mode": {
    "name": "ipython",
    "version": 3
   },
   "file_extension": ".py",
   "mimetype": "text/x-python",
   "name": "python",
   "nbconvert_exporter": "python",
   "pygments_lexer": "ipython3",
   "version": "3.9.5"
  }
 },
 "nbformat": 4,
 "nbformat_minor": 5
}
